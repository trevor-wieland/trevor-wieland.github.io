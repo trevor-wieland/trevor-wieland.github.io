{
 "cells": [
  {
   "cell_type": "markdown",
   "metadata": {},
   "source": [
    "# Establishing Linkages Between Features\n",
    "\n",
    "## What does it mean?\n",
    "One problem that can come up when clustering using an unsupervised algorithm is working to establish links between the features you use. This could mean different things depending on the context the problem is in, but for the sake of this example, we'll use types of products. In this case, the linkages between features would be the connections between products in their purchase history, and who buys them. Maybe marshmallows and graham crackers have some linkage, due to both being used in smores. Or maybe chips and hotdog buns will have a linkage, due to both being used when eating similar foods. Whatever the situation, it makes sense to want to investigate the linkages between products.\n",
    "\n",
    "## Why is this so complicated?\n",
    "In some cases, it really isn't. In some problems, one can look at the correlations between different features, and just call that a linkage. However, in some more nuanced problems, this may not give the full picture. For instance, maybe people who buy a lot of salsa also buy a lot of chips, but people who buy a lot of chips don't necessarily buy a lot of salsa. By just looking at correlations, this information would be missed. \n",
    "\n",
    "## What is the solution?\n",
    "The solution is to use clustering to build n-many clusters, and then check each cluster for similarities. When clustering using a typical k-means algorithm, clusters will be made of people who buy similar things. From there, we can look at those clusters individually, and check the makeup of these clusters, and establish a linkage between features internally. This gives us the advantage of knowing more about when these linkages occur, and with who they are most prevalent. In this tutorial we'll set up a test situation, where we want to investigate the linkages between different kinds of products, and to output our results as a graph, which can then be displayed and used for further analysis.\n",
    "\n"
   ]
  },
  {
   "cell_type": "code",
   "execution_count": null,
   "metadata": {},
   "outputs": [],
   "source": []
  }
 ],
 "metadata": {
  "kernelspec": {
   "display_name": "Python 3",
   "language": "python",
   "name": "python3"
  },
  "language_info": {
   "codemirror_mode": {
    "name": "ipython",
    "version": 3
   },
   "file_extension": ".py",
   "mimetype": "text/x-python",
   "name": "python",
   "nbconvert_exporter": "python",
   "pygments_lexer": "ipython3",
   "version": "3.6.5"
  }
 },
 "nbformat": 4,
 "nbformat_minor": 2
}
