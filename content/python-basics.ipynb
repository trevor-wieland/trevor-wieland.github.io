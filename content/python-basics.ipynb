{
 "cells": [
  {
   "cell_type": "markdown",
   "metadata": {},
   "source": [
    "# Python Tutorial\n",
    "This tutorial will cover both basic python, and using the Jupyter Notebooks environment"
   ]
  },
  {
   "cell_type": "markdown",
   "metadata": {
    "slideshow": {
     "slide_type": "slide"
    }
   },
   "source": [
    "## Using Jupyter Notebooks\n",
    "Jupyter Notebooks is a convenient way of running blocks of code independent of eachother, and consists of a collection of blocks, called cells, which can contain Markdown (standard html), or Python code. In order to run a specific cell of code, click on it, then either press SHIFT+ENTER, or click Run in the top toolbar. To change the type of cell, click on the Dropdown menu when editing a cell of code. You can press the >> button in the tool bar to run all cells from top to bottom.<br><br><br>"
   ]
  },
  {
   "cell_type": "code",
   "execution_count": 1,
   "metadata": {
    "slideshow": {
     "slide_type": "fragment"
    }
   },
   "outputs": [],
   "source": [
    "#This is a python cell"
   ]
  },
  {
   "cell_type": "markdown",
   "metadata": {
    "slideshow": {
     "slide_type": "fragment"
    }
   },
   "source": [
    "This is a Markdown Cell"
   ]
  },
  {
   "cell_type": "markdown",
   "metadata": {
    "slideshow": {
     "slide_type": "skip"
    }
   },
   "source": [
    "<br><br><br>Variables created in one cell will be accessible to any cells run after the cell the variable is in is run. For readability, one should still place variables in a cell above where they are used, so that when one runs all cells from top to bottom, the code will not error.<br>\n",
    "\n",
    "Jupyter Notebooks keeps automatic checkpoints every so often of the file, but to create a new checkpoint and save the file, press the save icon in the top left. To add a cell, you can either click on Insert in the tool bar, or press ESC and then B for inserting a cell after, and ESC and then A to insert a cell before. For more in depth keyboard shortcuts, go to help -> Keyboard Shortcuts, and for more information on Jupyter Notebooks, go to help -> User Interface tour. These will do a much more thourough job in explaining the ins and outs of using Jupyter Notebooks\n",
    "\n",
    "## Basic Python"
   ]
  },
  {
   "cell_type": "markdown",
   "metadata": {
    "slideshow": {
     "slide_type": "slide"
    }
   },
   "source": [
    "### Variables\n",
    "Python is a dynamically typed language, which means that types are not declared when creating a variable. Instead, to create a variable, you do the following:"
   ]
  },
  {
   "cell_type": "code",
   "execution_count": 2,
   "metadata": {
    "slideshow": {
     "slide_type": "subslide"
    }
   },
   "outputs": [],
   "source": [
    "#Comments can be written using a # before the line starts\n",
    "\n",
    "#int variable\n",
    "int_variable = 1\n",
    "\n",
    "#bool variable\n",
    "bool_variable = True\n",
    "\n",
    "#str variable\n",
    "str_variable = \"String\"\n",
    "\n",
    "#list structure\n",
    "list_variable = [1, 2, 3]"
   ]
  },
  {
   "cell_type": "markdown",
   "metadata": {
    "slideshow": {
     "slide_type": "slide"
    }
   },
   "source": [
    "Issues with type comparisons happen at Runtime, which means if you do something like this:"
   ]
  },
  {
   "cell_type": "code",
   "execution_count": 3,
   "metadata": {
    "slideshow": {
     "slide_type": "fragment"
    }
   },
   "outputs": [
    {
     "ename": "TypeError",
     "evalue": "unsupported operand type(s) for +: 'int' and 'str'",
     "output_type": "error",
     "traceback": [
      "\u001b[0;31m---------------------------------------------------------------------------\u001b[0m",
      "\u001b[0;31mTypeError\u001b[0m                                 Traceback (most recent call last)",
      "\u001b[0;32m<ipython-input-3-d911a95d3b51>\u001b[0m in \u001b[0;36m<module>\u001b[0;34m()\u001b[0m\n\u001b[0;32m----> 1\u001b[0;31m \u001b[0mprint\u001b[0m\u001b[0;34m(\u001b[0m\u001b[0mint_variable\u001b[0m \u001b[0;34m+\u001b[0m \u001b[0mstr_variable\u001b[0m\u001b[0;34m)\u001b[0m\u001b[0;34m\u001b[0m\u001b[0m\n\u001b[0m",
      "\u001b[0;31mTypeError\u001b[0m: unsupported operand type(s) for +: 'int' and 'str'"
     ]
    }
   ],
   "source": [
    "print(int_variable + str_variable)"
   ]
  },
  {
   "cell_type": "markdown",
   "metadata": {
    "slideshow": {
     "slide_type": "skip"
    }
   },
   "source": [
    "Issues will only occur when the code is executed. Note that regular python does not use semicolons, however one can still use semicolons. In Jupyter Notebooks, using semicolons will prevent the code from displaying results. (By default, only the last instance of displaying something will display. This can be changed in the settings, or by forcing multiple print statements.)"
   ]
  },
  {
   "cell_type": "code",
   "execution_count": 4,
   "metadata": {
    "slideshow": {
     "slide_type": "skip"
    }
   },
   "outputs": [
    {
     "data": {
      "text/plain": [
       "2"
      ]
     },
     "execution_count": 4,
     "metadata": {},
     "output_type": "execute_result"
    }
   ],
   "source": [
    "1+1"
   ]
  },
  {
   "cell_type": "code",
   "execution_count": 5,
   "metadata": {
    "slideshow": {
     "slide_type": "skip"
    }
   },
   "outputs": [],
   "source": [
    "1+1;"
   ]
  },
  {
   "cell_type": "markdown",
   "metadata": {
    "slideshow": {
     "slide_type": "slide"
    }
   },
   "source": [
    "### Control Flow\n",
    "Instead of using brackets to separate blocks of code, python uses whitespace. For separated blocks of code, such as if statements or for loops, a colon is used, followed by code indented by 4 spaces, or a tab. Either wil work, but you must be consistent throughout the whole document. See the following example code:"
   ]
  },
  {
   "cell_type": "code",
   "execution_count": 6,
   "metadata": {
    "slideshow": {
     "slide_type": "fragment"
    }
   },
   "outputs": [
    {
     "name": "stdout",
     "output_type": "stream",
     "text": [
      "example > 1\n",
      "Always runs\n"
     ]
    }
   ],
   "source": [
    "example = 2\n",
    "\n",
    "if example > 1:\n",
    "    print(\"example > 1\")\n",
    "\n",
    "print(\"Always runs\")"
   ]
  },
  {
   "cell_type": "markdown",
   "metadata": {
    "slideshow": {
     "slide_type": "subslide"
    }
   },
   "source": [
    "Using Else and Elif is just as simple, as can be seen below:"
   ]
  },
  {
   "cell_type": "code",
   "execution_count": 7,
   "metadata": {
    "slideshow": {
     "slide_type": "fragment"
    }
   },
   "outputs": [
    {
     "name": "stdout",
     "output_type": "stream",
     "text": [
      "example == 1\n",
      "Always runs\n"
     ]
    }
   ],
   "source": [
    "example = 1\n",
    "if example > 1:\n",
    "    print(\"example > 1\")\n",
    "elif example == 1:\n",
    "    print(\"example == 1\")\n",
    "else:\n",
    "    print(\"example < 1\")\n",
    "    \n",
    "print(\"Always runs\")"
   ]
  },
  {
   "cell_type": "markdown",
   "metadata": {
    "slideshow": {
     "slide_type": "slide"
    }
   },
   "source": [
    "### Loops\n",
    "While-loops are not different from any other common programming language, and are used by calling while (condition): commands. This can be ended with break commands, or continued with continue, or used as a normal while-loop, which can seen below:"
   ]
  },
  {
   "cell_type": "code",
   "execution_count": 8,
   "metadata": {
    "slideshow": {
     "slide_type": "subslide"
    }
   },
   "outputs": [
    {
     "name": "stdout",
     "output_type": "stream",
     "text": [
      "1\n",
      "2\n",
      "3\n",
      "4\n",
      "5\n",
      "4\n",
      "3\n",
      "2\n",
      "1\n"
     ]
    }
   ],
   "source": [
    "example = 1\n",
    "while example < 5:\n",
    "    print(example)\n",
    "    example += 1\n",
    "\n",
    "while True:\n",
    "    if(example < 1):\n",
    "        break\n",
    "    else:\n",
    "        print(example)\n",
    "        example -= 1\n"
   ]
  },
  {
   "cell_type": "markdown",
   "metadata": {
    "slideshow": {
     "slide_type": "subslide"
    }
   },
   "source": [
    "For-loops, however, are different in python. Instead of declaring a variable, giving a condition, and incrementing the variable, you give a range for the variable to iterate through, similar to a for-each loop in other languages. See the following:"
   ]
  },
  {
   "cell_type": "code",
   "execution_count": 9,
   "metadata": {
    "slideshow": {
     "slide_type": "fragment"
    }
   },
   "outputs": [
    {
     "name": "stdout",
     "output_type": "stream",
     "text": [
      "0\n",
      "1\n",
      "2\n",
      "3\n",
      "4\n"
     ]
    }
   ],
   "source": [
    "for x in range(0, 5):\n",
    "    print(x)"
   ]
  },
  {
   "cell_type": "markdown",
   "metadata": {
    "slideshow": {
     "slide_type": "subslide"
    }
   },
   "source": [
    "This exact syntax can also be used for for-each loops, like when iterating through a list:"
   ]
  },
  {
   "cell_type": "code",
   "execution_count": 10,
   "metadata": {
    "slideshow": {
     "slide_type": "fragment"
    }
   },
   "outputs": [
    {
     "name": "stdout",
     "output_type": "stream",
     "text": [
      "A\n",
      "B\n",
      "C\n"
     ]
    }
   ],
   "source": [
    "example_list = [\"A\", \"B\", \"C\"]\n",
    "for x in example_list:\n",
    "    print(x)"
   ]
  },
  {
   "cell_type": "markdown",
   "metadata": {
    "slideshow": {
     "slide_type": "slide"
    }
   },
   "source": [
    "### Functions\n",
    "Since python is a dynamically typed languages, functions are another place where significant changes between python and other languages exists. Parameters are not given specific types, nor are they given return types. Instead, whether a function returns anything at all is not given in the function declaration. See the example functions below:"
   ]
  },
  {
   "cell_type": "code",
   "execution_count": 11,
   "metadata": {
    "slideshow": {
     "slide_type": "fragment"
    }
   },
   "outputs": [],
   "source": [
    "def AddNums(num1, num2):\n",
    "    return num1 + num2\n",
    "\n",
    "def MultiNums(num1, num2):\n",
    "    return num1 + num2, num1 - num2"
   ]
  },
  {
   "cell_type": "markdown",
   "metadata": {
    "slideshow": {
     "slide_type": "subslide"
    }
   },
   "source": [
    "These functions have no designated return type, and MultiNums returns two objects as well, as a pair. Due to being a dynamically typed language, python is very flexible with function calls, treated every function as a generic function. To call these functions, use the cell below:"
   ]
  },
  {
   "cell_type": "code",
   "execution_count": 12,
   "metadata": {
    "slideshow": {
     "slide_type": "fragment"
    }
   },
   "outputs": [
    {
     "name": "stdout",
     "output_type": "stream",
     "text": [
      "2\n",
      "2\n",
      "0\n"
     ]
    }
   ],
   "source": [
    "print(AddNums(1,1))\n",
    "a,b = MultiNums(1,1)\n",
    "print(a)\n",
    "print(b)"
   ]
  },
  {
   "cell_type": "markdown",
   "metadata": {
    "slideshow": {
     "slide_type": "subslide"
    }
   },
   "source": [
    "Functions can also have default parameters, and most functions use almost entirely default parameters. These work the same way as default parameters in other languages, and can be seen below:"
   ]
  },
  {
   "cell_type": "code",
   "execution_count": 13,
   "metadata": {
    "slideshow": {
     "slide_type": "fragment"
    }
   },
   "outputs": [
    {
     "name": "stdout",
     "output_type": "stream",
     "text": [
      "2\n",
      "7\n"
     ]
    }
   ],
   "source": [
    "def DefAddNums(num1=1,num2=1):\n",
    "    return num1 + num2\n",
    "\n",
    "print(DefAddNums())\n",
    "print(DefAddNums(num1=3, num2=4))"
   ]
  },
  {
   "cell_type": "markdown",
   "metadata": {
    "slideshow": {
     "slide_type": "slide"
    }
   },
   "source": [
    "### Importing Modules\n",
    "A python script is known as a module, and can be imported into a different module in a number of ways. See the following:"
   ]
  },
  {
   "cell_type": "code",
   "execution_count": 14,
   "metadata": {
    "slideshow": {
     "slide_type": "fragment"
    }
   },
   "outputs": [],
   "source": [
    "import math\n",
    "import numpy as np\n",
    "from matplotlib import pyplot as plt"
   ]
  },
  {
   "cell_type": "markdown",
   "metadata": {
    "slideshow": {
     "slide_type": "skip"
    }
   },
   "source": [
    "Calling \"import math\" imports all functions in the math.py module. These can then be called by calling math.functionName(). Similarly, you can import a module as a shorter name, so to call numpy in the previous example, you would call np.functionName(). Lastly, you can import a specific sub-module from a larger module, by calling from module import sub-module as name. Import statements should generally go at the top of your document, to keep dependencies obvious. "
   ]
  },
  {
   "cell_type": "markdown",
   "metadata": {
    "slideshow": {
     "slide_type": "skip"
    }
   },
   "source": [
    "## Learning From Here On\n",
    "From this document, you should now have a general idea of the differences between python and any other languages you may be familiar with. However, there are many things one would need to do that isn't included in this document. It is impossible to cover everything one could potentially need to know to write in python, and much of learning the language will be through API. In a list below, there is included several links to the online API for various useful libraries and modules. \n",
    "\n",
    "python: This tutorial uses python 3, which is different in syntax to python 2. Take this into account when looking at example code online.\n",
    "\n",
    "Tutorial: https://docs.python.org/3/tutorial/index.html\n",
    "\n",
    "numpy: A good library for n-array structures. Mandatory for anything involving vectors or matrix operations. Most other math related third-party libraries require this to be installed. \n",
    "\n",
    "Tutorial: https://docs.scipy.org/doc/numpy/user/quickstart.html#\n",
    "\n",
    "pandas: A good library for dataframe structures. Useful for data analysis.\n",
    "\n",
    "Tutorial: http://pandas.pydata.org/pandas-docs/stable/10min.html#min\n",
    "\n",
    "sklearn: The most common machine learning library for python. Simple to implement, and can give very robust results.\n",
    "\n",
    "Tutorial: http://scikit-learn.org/stable/tutorial/index.html\n",
    "\n",
    "Other libraries will likely need to be used when using python for more general applications than just machine learning. These listed here are just some of the more general libraries that can come handy when using python for data analysis. "
   ]
  },
  {
   "cell_type": "markdown",
   "metadata": {
    "slideshow": {
     "slide_type": "slide"
    }
   },
   "source": [
    "# Any Questions?"
   ]
  }
 ],
 "metadata": {
  "celltoolbar": "Slideshow",
  "kernelspec": {
   "display_name": "Python 3",
   "language": "python",
   "name": "python3"
  },
  "language_info": {
   "codemirror_mode": {
    "name": "ipython",
    "version": 3
   },
   "file_extension": ".py",
   "mimetype": "text/x-python",
   "name": "python",
   "nbconvert_exporter": "python",
   "pygments_lexer": "ipython3",
   "version": "3.6.5"
  }
 },
 "nbformat": 4,
 "nbformat_minor": 2
}
